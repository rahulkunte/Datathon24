{
 "cells": [
  {
   "cell_type": "markdown",
   "id": "0248dd93-cf83-4344-9499-a9ff536fe108",
   "metadata": {},
   "source": [
    "#### Request driving times from Here API"
   ]
  },
  {
   "cell_type": "code",
   "execution_count": 3,
   "id": "044858d4-3379-4b16-8778-f873e9b91604",
   "metadata": {},
   "outputs": [],
   "source": [
    "import requests\n",
    "import flexpolyline as fp\n",
    "from datetime import datetime, timedelta\n",
    "import time\n",
    "import itertools\n",
    "import ast\n",
    "import pandas as pd"
   ]
  },
  {
   "cell_type": "code",
   "execution_count": 4,
   "id": "f64eb70d-5719-412b-aade-326cdd9a0314",
   "metadata": {},
   "outputs": [],
   "source": [
    "aed_subset = pd.read_csv('Antw_Kort_first 72 WT.csv')"
   ]
  },
  {
   "cell_type": "code",
   "execution_count": 7,
   "id": "d34af1fe-c11e-4d0b-abb7-e49082614876",
   "metadata": {},
   "outputs": [],
   "source": [
    "here_api_key = \"gcHbxT60NzQjgFQiOYqjLPrN8yNCED38YSHRAr2gYZ0\""
   ]
  },
  {
   "cell_type": "code",
   "execution_count": 8,
   "id": "e66f1c06-d6df-428b-b9d3-636f9b3db4ee",
   "metadata": {},
   "outputs": [],
   "source": [
    "def store_aed_3m1p5(df):\n",
    "    print('\\nStart of store coords')\n",
    "    for index, row in df.iterrows():\n",
    "        print('\\n')\n",
    "        print('-'*10)\n",
    "        print(f'\\n Loop iteration {index}')\n",
    "        lat = df.at[index, 'Lat']\n",
    "        lon = df.at[index, 'Lon']\n",
    "        isochrone_url = (\n",
    "                        f'https://isoline.router.hereapi.com/v8/isolines?origin={lat},{lon}&range[type]=time&range[values]={3*60}&transportMode=pedestrian&pedestrian[speed]={1.5}&apikey={here_api_key}'\n",
    "                        )\n",
    "        response = requests.get(isochrone_url)\n",
    "        df.at[index, 'WT_3m1p5'] = fp.decode(response.json()['isolines'][0]['polygons'][0]['outer'])\n",
    "        print('\\nStored polygon in df')\n",
    "        print('\\n Sleeping for 2 sec....')\n",
    "        time.sleep(2)\n",
    "        print('\\nAwake, starting again...')\n",
    "    return 1"
   ]
  },
  {
   "cell_type": "code",
   "execution_count": 15,
   "id": "1b10d8f4-f735-4da7-b3b2-46dff5f5edee",
   "metadata": {
    "collapsed": true,
    "jupyter": {
     "outputs_hidden": true
    },
    "tags": []
   },
   "outputs": [
    {
     "name": "stdout",
     "output_type": "stream",
     "text": [
      "\n",
      "Start of store coords\n",
      "\n",
      "\n",
      "----------\n",
      "\n",
      " Loop iteration 72\n"
     ]
    },
    {
     "ename": "KeyError",
     "evalue": "'isolines'",
     "output_type": "error",
     "traceback": [
      "\u001b[1;31m---------------------------------------------------------------------------\u001b[0m",
      "\u001b[1;31mKeyError\u001b[0m                                  Traceback (most recent call last)",
      "\u001b[1;32m~\\AppData\\Local\\Temp/ipykernel_8932/2952051269.py\u001b[0m in \u001b[0;36m<module>\u001b[1;34m\u001b[0m\n\u001b[1;32m----> 1\u001b[1;33m \u001b[0mstore_aed_3m1p5\u001b[0m\u001b[1;33m(\u001b[0m\u001b[0maed_subset\u001b[0m\u001b[1;33m.\u001b[0m\u001b[0mloc\u001b[0m\u001b[1;33m[\u001b[0m\u001b[1;36m72\u001b[0m\u001b[1;33m:\u001b[0m\u001b[1;33m]\u001b[0m\u001b[1;33m)\u001b[0m\u001b[1;33m\u001b[0m\u001b[1;33m\u001b[0m\u001b[0m\n\u001b[0m",
      "\u001b[1;32m~\\AppData\\Local\\Temp/ipykernel_8932/3555452035.py\u001b[0m in \u001b[0;36mstore_aed_3m1p5\u001b[1;34m(df)\u001b[0m\n\u001b[0;32m     11\u001b[0m                         )\n\u001b[0;32m     12\u001b[0m         \u001b[0mresponse\u001b[0m \u001b[1;33m=\u001b[0m \u001b[0mrequests\u001b[0m\u001b[1;33m.\u001b[0m\u001b[0mget\u001b[0m\u001b[1;33m(\u001b[0m\u001b[0misochrone_url\u001b[0m\u001b[1;33m)\u001b[0m\u001b[1;33m\u001b[0m\u001b[1;33m\u001b[0m\u001b[0m\n\u001b[1;32m---> 13\u001b[1;33m         \u001b[0mdf\u001b[0m\u001b[1;33m.\u001b[0m\u001b[0mat\u001b[0m\u001b[1;33m[\u001b[0m\u001b[0mindex\u001b[0m\u001b[1;33m,\u001b[0m \u001b[1;34m'WT_3m1p5'\u001b[0m\u001b[1;33m]\u001b[0m \u001b[1;33m=\u001b[0m \u001b[0mfp\u001b[0m\u001b[1;33m.\u001b[0m\u001b[0mdecode\u001b[0m\u001b[1;33m(\u001b[0m\u001b[0mresponse\u001b[0m\u001b[1;33m.\u001b[0m\u001b[0mjson\u001b[0m\u001b[1;33m(\u001b[0m\u001b[1;33m)\u001b[0m\u001b[1;33m[\u001b[0m\u001b[1;34m'isolines'\u001b[0m\u001b[1;33m]\u001b[0m\u001b[1;33m[\u001b[0m\u001b[1;36m0\u001b[0m\u001b[1;33m]\u001b[0m\u001b[1;33m[\u001b[0m\u001b[1;34m'polygons'\u001b[0m\u001b[1;33m]\u001b[0m\u001b[1;33m[\u001b[0m\u001b[1;36m0\u001b[0m\u001b[1;33m]\u001b[0m\u001b[1;33m[\u001b[0m\u001b[1;34m'outer'\u001b[0m\u001b[1;33m]\u001b[0m\u001b[1;33m)\u001b[0m\u001b[1;33m\u001b[0m\u001b[1;33m\u001b[0m\u001b[0m\n\u001b[0m\u001b[0;32m     14\u001b[0m         \u001b[0mprint\u001b[0m\u001b[1;33m(\u001b[0m\u001b[1;34m'\\nStored polygon in df'\u001b[0m\u001b[1;33m)\u001b[0m\u001b[1;33m\u001b[0m\u001b[1;33m\u001b[0m\u001b[0m\n\u001b[0;32m     15\u001b[0m         \u001b[0mprint\u001b[0m\u001b[1;33m(\u001b[0m\u001b[1;34m'\\n Sleeping for 2 sec....'\u001b[0m\u001b[1;33m)\u001b[0m\u001b[1;33m\u001b[0m\u001b[1;33m\u001b[0m\u001b[0m\n",
      "\u001b[1;31mKeyError\u001b[0m: 'isolines'"
     ]
    }
   ],
   "source": [
    "store_aed_3m1p5(aed_subset.loc[72:])"
   ]
  },
  {
   "cell_type": "code",
   "execution_count": null,
   "id": "130390a8-d7d4-4d45-87b7-28656a3a25a3",
   "metadata": {},
   "outputs": [],
   "source": []
  }
 ],
 "metadata": {
  "kernelspec": {
   "display_name": "Python 3 (ipykernel)",
   "language": "python",
   "name": "python3"
  },
  "language_info": {
   "codemirror_mode": {
    "name": "ipython",
    "version": 3
   },
   "file_extension": ".py",
   "mimetype": "text/x-python",
   "name": "python",
   "nbconvert_exporter": "python",
   "pygments_lexer": "ipython3",
   "version": "3.9.7"
  }
 },
 "nbformat": 4,
 "nbformat_minor": 5
}
